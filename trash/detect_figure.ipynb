{
 "cells": [
  {
   "cell_type": "code",
   "execution_count": null,
   "metadata": {},
   "outputs": [
    {
     "ename": "",
     "evalue": "",
     "output_type": "error",
     "traceback": [
      "\u001b[1;31mRunning cells with 'tic_toc_toe' requires the ipykernel package.\n",
      "\u001b[1;31mRun the following command to install 'ipykernel' into the Python environment. \n",
      "\u001b[1;31mCommand: 'conda install -n tic_toc_toe ipykernel --update-deps --force-reinstall'"
     ]
    }
   ],
   "source": [
    "import numpy as np\n",
    "import cv2\n",
    "import matplotlib.pyplot as plt\n",
    "plt.rcParams['figure.figsize'] = (15, 15)"
   ]
  },
  {
   "cell_type": "code",
   "execution_count": null,
   "metadata": {},
   "outputs": [
    {
     "ename": "",
     "evalue": "",
     "output_type": "error",
     "traceback": [
      "\u001b[1;31mRunning cells with 'tic_toc_toe' requires the ipykernel package.\n",
      "\u001b[1;31mRun the following command to install 'ipykernel' into the Python environment. \n",
      "\u001b[1;31mCommand: 'conda install -n tic_toc_toe ipykernel --update-deps --force-reinstall'"
     ]
    }
   ],
   "source": [
    "filename = 'image/new.jpg'"
   ]
  },
  {
   "cell_type": "code",
   "execution_count": null,
   "metadata": {},
   "outputs": [
    {
     "ename": "",
     "evalue": "",
     "output_type": "error",
     "traceback": [
      "\u001b[1;31mRunning cells with 'tic_toc_toe' requires the ipykernel package.\n",
      "\u001b[1;31mRun the following command to install 'ipykernel' into the Python environment. \n",
      "\u001b[1;31mCommand: 'conda install -n tic_toc_toe ipykernel --update-deps --force-reinstall'"
     ]
    }
   ],
   "source": [
    "image = cv2.imread(filename, cv2.IMREAD_COLOR)\n",
    "if image is None:\n",
    "    raise Exception('Failed to load image: ' + filename)\n",
    "\n",
    "image = cv2.cvtColor(image, cv2.COLOR_BGR2RGB)\n",
    "plt.imshow(image)\n",
    "plt.axis('off')\n",
    "plt.show()"
   ]
  },
  {
   "cell_type": "markdown",
   "metadata": {},
   "source": [
    "## エッジの検出"
   ]
  },
  {
   "cell_type": "code",
   "execution_count": null,
   "metadata": {},
   "outputs": [
    {
     "ename": "",
     "evalue": "",
     "output_type": "error",
     "traceback": [
      "\u001b[1;31mRunning cells with 'tic_toc_toe' requires the ipykernel package.\n",
      "\u001b[1;31mRun the following command to install 'ipykernel' into the Python environment. \n",
      "\u001b[1;31mCommand: 'conda install -n tic_toc_toe ipykernel --update-deps --force-reinstall'"
     ]
    }
   ],
   "source": [
    "gray = cv2.cvtColor(image, cv2.COLOR_BGR2GRAY)\n",
    "dx = cv2.Sobel(gray, cv2.CV_8U, 1, 0)\n",
    "dy = cv2.Sobel(gray, cv2.CV_8U, 0, 1)\n",
    "sobel = (np.sqrt(dx * dx + dy * dy) * 128.0).astype('uint8')\n",
    "_, sobel = cv2.threshold(sobel, 0, 255, cv2.THRESH_BINARY + cv2.THRESH_OTSU)\n",
    "cv2.imwrite('sobel.jpg', sobel)\n",
    "\n",
    "edge = cv2.Canny(gray, 100, 200)\n",
    "cv2.imwrite('canny.jpg', edge)\n",
    "\n",
    "fig = plt.figure()\n",
    "ax = fig.add_subplot(1, 2, 1)\n",
    "ax.imshow(sobel, cmap='gray')\n",
    "ax.axis('off')\n",
    "ax = fig.add_subplot(1, 2, 2)\n",
    "ax.imshow(edge, cmap='gray')\n",
    "ax.axis('off')\n",
    "plt.show()"
   ]
  },
  {
   "cell_type": "markdown",
   "metadata": {},
   "source": [
    "## エッジの強調"
   ]
  },
  {
   "cell_type": "code",
   "execution_count": null,
   "metadata": {},
   "outputs": [
    {
     "ename": "",
     "evalue": "",
     "output_type": "error",
     "traceback": [
      "\u001b[1;31mRunning cells with 'tic_toc_toe' requires the ipykernel package.\n",
      "\u001b[1;31mRun the following command to install 'ipykernel' into the Python environment. \n",
      "\u001b[1;31mCommand: 'conda install -n tic_toc_toe ipykernel --update-deps --force-reinstall'"
     ]
    }
   ],
   "source": [
    "height, width = edge.shape\n",
    "ksize = int(max(height, width) * 0.01)\n",
    "ksize = ksize // 2 * 2 + 1\n",
    "#edge = cv2.dilate(edge, np.ones((ksize, ksize), dtype='uint8'))\n",
    "#edge = cv2.erode(edge, np.ones((ksize, ksize), dtype='uint8'))\n",
    "edge = cv2.morphologyEx(edge, cv2.MORPH_CLOSE, np.ones((ksize, ksize), dtype='uint8'))\n",
    "plt.imshow(edge, cmap='gray')\n",
    "plt.axis('off')\n",
    "plt.show()"
   ]
  },
  {
   "cell_type": "markdown",
   "metadata": {},
   "source": [
    "## 輪郭線の抽出"
   ]
  },
  {
   "cell_type": "code",
   "execution_count": null,
   "metadata": {},
   "outputs": [
    {
     "ename": "",
     "evalue": "",
     "output_type": "error",
     "traceback": [
      "\u001b[1;31mRunning cells with 'tic_toc_toe' requires the ipykernel package.\n",
      "\u001b[1;31mRun the following command to install 'ipykernel' into the Python environment. \n",
      "\u001b[1;31mCommand: 'conda install -n tic_toc_toe ipykernel --update-deps --force-reinstall'"
     ]
    }
   ],
   "source": [
    "_, contours, _ = cv2.findContours(edge, cv2.RETR_EXTERNAL, cv2.CHAIN_APPROX_SIMPLE)\n",
    "print('{:d} contours detected!'.format(len(contours)))"
   ]
  },
  {
   "cell_type": "code",
   "execution_count": null,
   "metadata": {},
   "outputs": [
    {
     "ename": "",
     "evalue": "",
     "output_type": "error",
     "traceback": [
      "\u001b[1;31mRunning cells with 'tic_toc_toe' requires the ipykernel package.\n",
      "\u001b[1;31mRun the following command to install 'ipykernel' into the Python environment. \n",
      "\u001b[1;31mCommand: 'conda install -n tic_toc_toe ipykernel --update-deps --force-reinstall'"
     ]
    }
   ],
   "source": [
    "result = image.copy()\n",
    "cv2.drawContours(result, contours, -1, (255, 0, 0), 3, cv2.LINE_AA)\n",
    "cv2.imwrite('draw_contours.jpg', result[:, :, ::-1])\n",
    "plt.imshow(result)\n",
    "plt.axis('off')\n",
    "plt.show()"
   ]
  },
  {
   "cell_type": "markdown",
   "metadata": {},
   "source": [
    "## 輪郭線の分類"
   ]
  },
  {
   "cell_type": "code",
   "execution_count": null,
   "metadata": {},
   "outputs": [
    {
     "ename": "",
     "evalue": "",
     "output_type": "error",
     "traceback": [
      "\u001b[1;31mRunning cells with 'tic_toc_toe' requires the ipykernel package.\n",
      "\u001b[1;31mRun the following command to install 'ipykernel' into the Python environment. \n",
      "\u001b[1;31mCommand: 'conda install -n tic_toc_toe ipykernel --update-deps --force-reinstall'"
     ]
    }
   ],
   "source": [
    "result = image.copy()\n",
    "font = cv2.FONT_HERSHEY_SIMPLEX\n",
    "\n",
    "for cnt in contours:\n",
    "    arclen = cv2.arcLength(cnt, True)\n",
    "    approx = cv2.approxPolyDP(cnt, arclen * 1.0e-2, True)\n",
    "    cv2.drawContours(result, [approx], -1, (255, 0, 0), 3)\n",
    "\n",
    "    n_gon = len(approx)\n",
    "    text = 'unknown'\n",
    "    if n_gon > 10:\n",
    "        text = 'circle'\n",
    "    elif n_gon == 6:\n",
    "        text = 'hexagon'\n",
    "    elif n_gon == 5:\n",
    "        text = 'pentagon'\n",
    "    elif n_gon == 4:\n",
    "        text = 'rectangle'\n",
    "    elif n_gon == 3:\n",
    "        text = 'triangle'\n",
    "    \n",
    "    position = np.asarray(approx).reshape((-1, 2)).max(axis=0).astype('int32')\n",
    "    px, py = position\n",
    "    cv2.putText(result, text, (px + 10, py + 10), font, 1.0, (255, 255, 255), 2, cv2.LINE_AA)\n",
    "\n",
    "cv2.imwrite('detection.jpg', result[:, :, ::-1])\n",
    "plt.imshow(result)\n",
    "plt.axis('off')\n",
    "plt.show()"
   ]
  },
  {
   "cell_type": "code",
   "execution_count": null,
   "metadata": {},
   "outputs": [
    {
     "ename": "",
     "evalue": "",
     "output_type": "error",
     "traceback": [
      "\u001b[1;31mRunning cells with 'tic_toc_toe' requires the ipykernel package.\n",
      "\u001b[1;31mRun the following command to install 'ipykernel' into the Python environment. \n",
      "\u001b[1;31mCommand: 'conda install -n tic_toc_toe ipykernel --update-deps --force-reinstall'"
     ]
    }
   ],
   "source": []
  }
 ],
 "metadata": {
  "kernelspec": {
   "display_name": "Python 3",
   "language": "python",
   "name": "python3"
  },
  "language_info": {
   "codemirror_mode": {
    "name": "ipython",
    "version": 3
   },
   "file_extension": ".py",
   "mimetype": "text/x-python",
   "name": "python",
   "nbconvert_exporter": "python",
   "pygments_lexer": "ipython3",
   "version": "3.7.16"
  }
 },
 "nbformat": 4,
 "nbformat_minor": 4
}
